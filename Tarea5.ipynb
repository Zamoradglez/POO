{
  "nbformat": 4,
  "nbformat_minor": 0,
  "metadata": {
    "colab": {
      "provenance": []
    },
    "kernelspec": {
      "name": "python3",
      "display_name": "Python 3"
    },
    "language_info": {
      "name": "python"
    }
  },
  "cells": [
    {
      "cell_type": "code",
      "execution_count": 4,
      "metadata": {
        "id": "oWwFNNSCXDHC"
      },
      "outputs": [],
      "source": [
        "def area(b,h): #Se crea una función de dos valores base y altura\n",
        "  a=b*h*0.5\n",
        "  return a"
      ]
    },
    {
      "cell_type": "code",
      "source": [
        "area(5,4) #Ejemplo"
      ],
      "metadata": {
        "colab": {
          "base_uri": "https://localhost:8080/"
        },
        "id": "B8yAFX-xY4JA",
        "outputId": "0e15d68e-4010-4d01-8493-894b59a15a53"
      },
      "execution_count": 6,
      "outputs": [
        {
          "output_type": "execute_result",
          "data": {
            "text/plain": [
              "10.0"
            ]
          },
          "metadata": {},
          "execution_count": 6
        }
      ]
    },
    {
      "cell_type": "code",
      "source": [
        "def perimetro(l,b): #Se crea una función de dos valores el lado repetido y el que no lo es\n",
        "  p=2*l+b\n",
        "  return p"
      ],
      "metadata": {
        "id": "5rZPHwwTY-OQ"
      },
      "execution_count": 7,
      "outputs": []
    },
    {
      "cell_type": "code",
      "source": [
        "perimetro(2,4)"
      ],
      "metadata": {
        "colab": {
          "base_uri": "https://localhost:8080/"
        },
        "id": "Ws60lZ1ZZLbg",
        "outputId": "5585e405-ab15-4392-a87c-b60b14707bec"
      },
      "execution_count": 8,
      "outputs": [
        {
          "output_type": "execute_result",
          "data": {
            "text/plain": [
              "8"
            ]
          },
          "metadata": {},
          "execution_count": 8
        }
      ]
    },
    {
      "cell_type": "code",
      "source": [
        "def introduce(n):\n",
        "  return n"
      ],
      "metadata": {
        "id": "1dfxgF2dhYeS"
      },
      "execution_count": 18,
      "outputs": []
    },
    {
      "cell_type": "code",
      "source": [
        "introduce(4)"
      ],
      "metadata": {
        "colab": {
          "base_uri": "https://localhost:8080/"
        },
        "id": "hQQG7fhxhrSM",
        "outputId": "a17b3674-6851-464d-86b3-0bd6bbd1c10b"
      },
      "execution_count": 19,
      "outputs": [
        {
          "output_type": "execute_result",
          "data": {
            "text/plain": [
              "4"
            ]
          },
          "metadata": {},
          "execution_count": 19
        }
      ]
    },
    {
      "cell_type": "code",
      "source": [
        "def numero(number): #Se crea una función donde se ingresa un numero. Si el resultado es 0 entonces es un numero par sino no lo es\n",
        "  resultado=number%2\n",
        "  if (resultado==0):\n",
        "    print(\"es par\")\n",
        "  else:\n",
        "    print(\"es impar\")\n",
        ""
      ],
      "metadata": {
        "id": "iF4JXGakeF2l"
      },
      "execution_count": 26,
      "outputs": []
    },
    {
      "cell_type": "code",
      "source": [
        "numero(10)"
      ],
      "metadata": {
        "colab": {
          "base_uri": "https://localhost:8080/"
        },
        "id": "pC_xTdQ7hwcP",
        "outputId": "8f38b35d-481b-489c-93af-75d11a53647e"
      },
      "execution_count": 27,
      "outputs": [
        {
          "output_type": "stream",
          "name": "stdout",
          "text": [
            "es par\n"
          ]
        }
      ]
    },
    {
      "cell_type": "code",
      "source": [
        "n = int(input(\"ingresa tu numero\"))           #Te pide un numero\n",
        "L=[i for i in range(1,n) if n%i==0]      #Se crea una lista de los divisiros con un rango establecido\n",
        "L\n",
        "if (sum(L)==n):                            #Se suma los elemntos de la lista. Si la suma es igual a n entonces se trata de un numero perfercto\n",
        "  print(\"Es un numero perfecto\")\n",
        "else:\n",
        "  print(\"No es perfecto\")"
      ],
      "metadata": {
        "colab": {
          "base_uri": "https://localhost:8080/"
        },
        "id": "bO8PtNtkiSNO",
        "outputId": "67906934-277c-4423-e351-f7af1ecccf3e"
      },
      "execution_count": 33,
      "outputs": [
        {
          "output_type": "stream",
          "name": "stdout",
          "text": [
            "ingresa tu numero28\n",
            "Es un numero perfecto\n"
          ]
        }
      ]
    }
  ]
}