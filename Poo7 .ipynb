{
  "nbformat": 4,
  "nbformat_minor": 0,
  "metadata": {
    "colab": {
      "provenance": []
    },
    "kernelspec": {
      "name": "python3",
      "display_name": "Python 3"
    },
    "language_info": {
      "name": "python"
    }
  },
  "cells": [
    {
      "cell_type": "code",
      "execution_count": null,
      "metadata": {
        "id": "9McWeEx4Yosp"
      },
      "outputs": [],
      "source": []
    },
    {
      "cell_type": "markdown",
      "source": [
        "#Clases , herencias y polimorfismo"
      ],
      "metadata": {
        "id": "LBCYHycvZSU-"
      }
    },
    {
      "cell_type": "markdown",
      "source": [
        "Mas de una funcion es un polimorfismos"
      ],
      "metadata": {
        "id": "GrFNgiFIZvuU"
      }
    },
    {
      "cell_type": "code",
      "source": [],
      "metadata": {
        "id": "Cb4h47NzZZiu"
      },
      "execution_count": null,
      "outputs": []
    },
    {
      "cell_type": "code",
      "source": [
        "class Mascota():\n",
        "  def __init__(self):\n",
        "    print(\"Creamos una clase madre\")\n",
        "  def adivina(self):\n",
        "    print(\"Hola,soy un perro\")\n",
        "  def hablar(self):\n",
        "    print(\"Ladrar\")\n",
        "  def tigre(self):\n",
        "    print(\"RAWWRR\")\n",
        "  def orangutan(self):\n",
        "    print(\"OOhOOh\")"
      ],
      "metadata": {
        "id": "11ezGIvaZ1te"
      },
      "execution_count": 4,
      "outputs": []
    },
    {
      "cell_type": "code",
      "source": [
        "mascota = Mascota()"
      ],
      "metadata": {
        "colab": {
          "base_uri": "https://localhost:8080/"
        },
        "id": "1qQlTYcCdUBh",
        "outputId": "407fccb6-c413-4859-b491-48a3b3d8389a"
      },
      "execution_count": 5,
      "outputs": [
        {
          "output_type": "stream",
          "name": "stdout",
          "text": [
            "Creamos una clase madre\n"
          ]
        }
      ]
    },
    {
      "cell_type": "code",
      "source": [
        "mascota.adivina() #corres una función dentro de la clase(polimorfismo) mascota"
      ],
      "metadata": {
        "colab": {
          "base_uri": "https://localhost:8080/"
        },
        "id": "SeR_S6MrdxIZ",
        "outputId": "ebd24a9e-904c-4d98-f93a-18535d60e804"
      },
      "execution_count": 6,
      "outputs": [
        {
          "output_type": "stream",
          "name": "stdout",
          "text": [
            "Hola,soy un perro\n"
          ]
        }
      ]
    },
    {
      "cell_type": "code",
      "source": [
        "mascota.orangutan()"
      ],
      "metadata": {
        "colab": {
          "base_uri": "https://localhost:8080/"
        },
        "id": "FCEGROxRgHk0",
        "outputId": "3451500f-e3ba-48dc-b32e-d7c6fb03fc41"
      },
      "execution_count": 7,
      "outputs": [
        {
          "output_type": "stream",
          "name": "stdout",
          "text": [
            "OOhOOh\n"
          ]
        }
      ]
    },
    {
      "cell_type": "code",
      "source": [
        "mascota.tigre()"
      ],
      "metadata": {
        "colab": {
          "base_uri": "https://localhost:8080/"
        },
        "id": "0cfZbElYgIAd",
        "outputId": "d9053ee5-eabc-42b9-fbf3-c4297b2b5e67"
      },
      "execution_count": 8,
      "outputs": [
        {
          "output_type": "stream",
          "name": "stdout",
          "text": [
            "RAWWRR\n"
          ]
        }
      ]
    },
    {
      "cell_type": "markdown",
      "source": [
        "#Crear una clase herencia"
      ],
      "metadata": {
        "id": "TgHEDhL7g5jl"
      }
    },
    {
      "cell_type": "code",
      "source": [
        "class Perro(Mascota): #Se hace una clase heredada\n",
        "  def __init__(self): #Traemos las funciones creadas en la claseanterior\n",
        "    Mascota.__init__(self)\n",
        "    print(\"Creamos una clase heredada\")\n",
        "  def nombre(self):\n",
        "    print(\"Luna\")\n",
        "  def idioma(self):\n",
        "    print(\"WUAF\")\n",
        "  def bicho(self):\n",
        "    print(\"SIUUUUUUUUUUUUUUUUUUUUUUUUUUUUUUUUUUUUUUUU!\")\n",
        "  def adivina(self):\n",
        "    print(\"Golden\")\n"
      ],
      "metadata": {
        "id": "fEQm9Obngpx-"
      },
      "execution_count": 11,
      "outputs": []
    },
    {
      "cell_type": "code",
      "source": [
        "perro = Perro()"
      ],
      "metadata": {
        "colab": {
          "base_uri": "https://localhost:8080/"
        },
        "id": "eQ-l2K5lizr8",
        "outputId": "80fc574f-1d2f-48c0-eb06-6cf5b38b3dd7"
      },
      "execution_count": 12,
      "outputs": [
        {
          "output_type": "stream",
          "name": "stdout",
          "text": [
            "Creamos una clase madre\n",
            "Creamos una clase heredada\n"
          ]
        }
      ]
    },
    {
      "cell_type": "code",
      "source": [
        "perro.adivina()"
      ],
      "metadata": {
        "colab": {
          "base_uri": "https://localhost:8080/"
        },
        "id": "e3KkUSKkkJaI",
        "outputId": "37ec97a8-49c1-4804-e8f2-b1d9f3b3504a"
      },
      "execution_count": 13,
      "outputs": [
        {
          "output_type": "stream",
          "name": "stdout",
          "text": [
            "Golden\n"
          ]
        }
      ]
    },
    {
      "cell_type": "code",
      "source": [
        "class Zamora():\n",
        "  def __init__(self):\n",
        "    print(\"Hola soy Diego Zamora\")\n",
        "  def deporte(self): #Polimorfimo\n",
        "    print(\"Basquet\")\n",
        "  def juego(self): #Polimorfimo\n",
        "    print(\"Futbol\")"
      ],
      "metadata": {
        "id": "OuHh3B1JmsRK"
      },
      "execution_count": 18,
      "outputs": []
    },
    {
      "cell_type": "code",
      "source": [
        "class Comida(Zamora):\n",
        "  def __init__(self):\n",
        "    Zamora.__init__(self)\n",
        "    print(\"Creamos una clase heredada\")\n",
        "  def comida(self):\n",
        "    print(\"Hamburguesa\")\n",
        "  def cena(self):\n",
        "    print(\"Pizza\")\n"
      ],
      "metadata": {
        "id": "-XdRVYFbnNoB"
      },
      "execution_count": 28,
      "outputs": []
    },
    {
      "cell_type": "code",
      "source": [
        "zamora = Zamora()"
      ],
      "metadata": {
        "colab": {
          "base_uri": "https://localhost:8080/"
        },
        "id": "You8oMNMnbfP",
        "outputId": "f351c698-871e-4b01-f705-f013b54fee10"
      },
      "execution_count": 20,
      "outputs": [
        {
          "output_type": "stream",
          "name": "stdout",
          "text": [
            "Hola soy Diego Zamora\n"
          ]
        }
      ]
    },
    {
      "cell_type": "code",
      "source": [
        "zamora.deporte()"
      ],
      "metadata": {
        "colab": {
          "base_uri": "https://localhost:8080/"
        },
        "id": "wby4jzg5ncAX",
        "outputId": "311257ac-b708-460d-d271-47367f035508"
      },
      "execution_count": 21,
      "outputs": [
        {
          "output_type": "stream",
          "name": "stdout",
          "text": [
            "Basquet\n"
          ]
        }
      ]
    },
    {
      "cell_type": "code",
      "source": [
        "zamora.juego()"
      ],
      "metadata": {
        "colab": {
          "base_uri": "https://localhost:8080/"
        },
        "id": "LjM5OZnnoAxx",
        "outputId": "90e63a09-f843-4032-8d5c-85d0a7dccf5d"
      },
      "execution_count": 22,
      "outputs": [
        {
          "output_type": "stream",
          "name": "stdout",
          "text": [
            "Futbol\n"
          ]
        }
      ]
    },
    {
      "cell_type": "code",
      "source": [
        "comida=Comida()"
      ],
      "metadata": {
        "colab": {
          "base_uri": "https://localhost:8080/"
        },
        "id": "ElGpx7I2oD5I",
        "outputId": "757c942b-6b45-4ea3-b9e6-c8169565c0e6"
      },
      "execution_count": 23,
      "outputs": [
        {
          "output_type": "stream",
          "name": "stdout",
          "text": [
            "Hola soy Diego Zamora\n",
            "Creamos una clase heredada\n"
          ]
        }
      ]
    },
    {
      "cell_type": "code",
      "source": [
        "comida.comida()"
      ],
      "metadata": {
        "colab": {
          "base_uri": "https://localhost:8080/"
        },
        "id": "Tq6kLaTmoKdJ",
        "outputId": "1199ff61-b111-4dfa-aa6b-7130a31fa96b"
      },
      "execution_count": 29,
      "outputs": [
        {
          "output_type": "stream",
          "name": "stdout",
          "text": [
            "Hamburguesa\n"
          ]
        }
      ]
    }
  ]
}