{
  "nbformat": 4,
  "nbformat_minor": 0,
  "metadata": {
    "colab": {
      "provenance": []
    },
    "kernelspec": {
      "name": "python3",
      "display_name": "Python 3"
    },
    "language_info": {
      "name": "python"
    }
  },
  "cells": [
    {
      "cell_type": "code",
      "execution_count": 3,
      "metadata": {
        "colab": {
          "base_uri": "https://localhost:8080/"
        },
        "id": "Hv9qyceq9a0X",
        "outputId": "d7637863-b47c-437e-dc77-9c3048a137ab"
      },
      "outputs": [
        {
          "output_type": "stream",
          "name": "stdout",
          "text": [
            "Introduce longitud lado: 6\n",
            " La Matriz:\n",
            "[[ 2  4  1  9]\n",
            " [11 16 17 18]\n",
            " [19  4  6  3]\n",
            " [ 2 16 12 11]]\n",
            " El Determinante: -11095.999999999998\n",
            "El Perímetro: 18.0\n",
            "Área: 15.588457268119894\n"
          ]
        }
      ],
      "source": [
        "import numpy as np #funciones numpy\n",
        "\n",
        "class Triangulo:\n",
        "    def __init__(self, lado, lista):  #clase madre\n",
        "        self.lado = lado\n",
        "        self.lista = lista\n",
        "\n",
        "class Determinante(Triangulo): #clase heredada\n",
        "    def lista_matriz(self):\n",
        "\n",
        "        matriz = np.array(self.lista).reshape(4, 4) #se hace una matriz 4x4\n",
        "        determinante = np.linalg.det(matriz) #Determinante en la biblio numpy\n",
        "        print(\" La Matriz:\")\n",
        "        print(matriz)\n",
        "        print(\" El Determinante:\", determinante)\n",
        "\n",
        "lista = [2, 4, 1, 9, 11, 16, 17, 18, 19, 4, 6, 3, 2, 16, 12, 11]\n",
        "\n",
        "class A_Perimetro(Triangulo): #clase heredada\n",
        "    def __init__(self, lado):\n",
        "        super().__init__(lado, None) #variables anteriores\n",
        "\n",
        "    def perimetro1(self): #Se crean polimorfismos de permitro\n",
        "        perimetro1 = 3 * self.lado\n",
        "        print(\"El Perímetro:\", perimetro1)\n",
        "\n",
        "    def area1(self): #2 polimorfismo area\n",
        "        area1 = (self.lado**2 * np.sqrt(3)) / 4\n",
        "        print(\"Área:\", area1)\n",
        "\n",
        "side = float(input(\"Introduce longitud lado: \")) #lado\n",
        "\n",
        "#Determinante\n",
        "det = Determinante(side, lista)\n",
        "det.lista_matriz()\n",
        "\n",
        "#Perimetro\n",
        "calculadora = A_Perimetro(side)\n",
        "\n",
        "# Calculadora\n",
        "calculadora.perimetro1()\n",
        "calculadora.area1()"
      ]
    },
    {
      "cell_type": "code",
      "source": [],
      "metadata": {
        "id": "LufRkMu194o5"
      },
      "execution_count": null,
      "outputs": []
    }
  ]
}