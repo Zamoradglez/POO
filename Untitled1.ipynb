{
  "nbformat": 4,
  "nbformat_minor": 0,
  "metadata": {
    "colab": {
      "provenance": []
    },
    "kernelspec": {
      "name": "python3",
      "display_name": "Python 3"
    },
    "language_info": {
      "name": "python"
    }
  },
  "cells": [
    {
      "cell_type": "markdown",
      "source": [
        "*Elemento de lista\n",
        "*Números enteros\n",
        "*Numeros flotantes"
      ],
      "metadata": {
        "id": "mKTS9q3Mr-9L"
      }
    },
    {
      "cell_type": "code",
      "execution_count": null,
      "metadata": {
        "colab": {
          "base_uri": "https://localhost:8080/"
        },
        "id": "xQWs4GWirm64",
        "outputId": "e6af53f0-91e8-43f3-ff33-d663280af72f"
      },
      "outputs": [
        {
          "output_type": "stream",
          "name": "stdout",
          "text": [
            "Hola mundo\n"
          ]
        }
      ],
      "source": [
        "print(\"Hola mundo\")"
      ]
    },
    {
      "cell_type": "markdown",
      "source": [
        "#Primeros Objetos\n",
        "\n",
        "\n",
        "1.   Objetos de lista\n",
        "2.   Listas\n",
        "3. Conjustos\n",
        "\n",
        "\n"
      ],
      "metadata": {
        "id": "v-DKerS7sipc"
      }
    },
    {
      "cell_type": "markdown",
      "source": [
        "En python se pueden realizar operraciones sobre objetos. Además. es útil para resolver sistemas de ecuaciones lineales\n",
        "$$\n",
        "f(x,y)\\begin{cases}\n",
        "x+2y &=3 \\\\\n",
        "2x+4y &=6\n",
        "\\end{cases}\n",
        "$$"
      ],
      "metadata": {
        "id": "wzvYOp6Us0h5"
      }
    },
    {
      "cell_type": "code",
      "source": [
        "#Crear variables\n",
        "x=3\n",
        "y=5"
      ],
      "metadata": {
        "id": "KJ4yoct-tbSh"
      },
      "execution_count": null,
      "outputs": []
    },
    {
      "cell_type": "code",
      "source": [
        "print(x+y)\n",
        "print(x-y)\n",
        "print(x*y)\n",
        "print(x**y)\n",
        "print(x/y)\n",
        "print(x//y)\n",
        "print(x%y)"
      ],
      "metadata": {
        "colab": {
          "base_uri": "https://localhost:8080/"
        },
        "id": "N3IQ-vuOtkIv",
        "outputId": "b60bd47b-68c2-498b-fc5e-5af3f0b3c245"
      },
      "execution_count": null,
      "outputs": [
        {
          "output_type": "stream",
          "name": "stdout",
          "text": [
            "8\n",
            "-2\n",
            "15\n",
            "243\n",
            "0.6\n",
            "0\n",
            "3\n"
          ]
        }
      ]
    },
    {
      "cell_type": "code",
      "source": [
        "type(x+y)"
      ],
      "metadata": {
        "colab": {
          "base_uri": "https://localhost:8080/"
        },
        "id": "b4Tfspl6wYeK",
        "outputId": "8830d8c6-3248-40b8-8b50-ca9979262160"
      },
      "execution_count": null,
      "outputs": [
        {
          "output_type": "execute_result",
          "data": {
            "text/plain": [
              "int"
            ]
          },
          "metadata": {},
          "execution_count": 5
        }
      ]
    },
    {
      "cell_type": "code",
      "source": [
        "type(x/y)"
      ],
      "metadata": {
        "colab": {
          "base_uri": "https://localhost:8080/"
        },
        "id": "XpNN9IFtwclB",
        "outputId": "89d7dc7b-5636-4898-9013-1fb1b5d3909f"
      },
      "execution_count": null,
      "outputs": [
        {
          "output_type": "execute_result",
          "data": {
            "text/plain": [
              "float"
            ]
          },
          "metadata": {},
          "execution_count": 6
        }
      ]
    },
    {
      "cell_type": "code",
      "source": [],
      "metadata": {
        "id": "IJLCjpapwglC"
      },
      "execution_count": null,
      "outputs": []
    }
  ]
}